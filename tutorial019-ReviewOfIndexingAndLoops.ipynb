{
 "cells": [
  {
   "cell_type": "markdown",
   "id": "b4c2312c",
   "metadata": {},
   "source": [
    "# Review 2: More examples of for loops and indexing with pandas dataframes"
   ]
  },
  {
   "cell_type": "markdown",
   "id": "49793308",
   "metadata": {},
   "source": [
    "In the previous tutorials we have learned how to use basic python libraries, seaborn, pandas, matplotlib etc. This review tutorial will go over some of those concepts, specifically for loops and indexing, by using pandas dataframes."
   ]
  },
  {
   "cell_type": "markdown",
   "id": "f50e5d52",
   "metadata": {},
   "source": [
    "#### Learning goals\n",
    "\n",
    "  - Briefly review dataframes\n",
    "  - Go over multiple ways to index into dataframes\n",
    "  - Find index values that meet specific criteria within a pandas dataframe\n",
    "  - Use for loops on a pandas dataframe\n",
    "  \n",
    "#### Prerequisites\n",
    "  - Python and NumPy\n",
    "  - Pandas, DataFrames and TimeSeries\n",
    "  - Seaborn\n",
    "  - Matplotlib\n",
    "  \n",
    " ---"
   ]
  },
  {
   "cell_type": "markdown",
   "id": "41e85c1f",
   "metadata": {},
   "source": [
    "The goal of this tutorial is to put together many of the previous teahcings to analyze real world data."
   ]
  },
  {
   "cell_type": "markdown",
   "id": "e71af8c4",
   "metadata": {},
   "source": [
    "For this, we will use the same open [data about hourly bicycle counts made available by the city of Seattle, WA](http://data.seattle.gov/) as from tutorial022. You should still have access to this from previous class. We will start with a brief reminder of Pandas dataframes, using the same commands from the previous tutorial. We will then follow up with examples for indexing and for loops with pandas dataframes.\n",
    "\n",
    "As a reminder of the contents of the dataset, Seattle has a bridge called Fremont Bridge. The bridge has installed devices that count bycles passing over the bridge (an automated bicycle counter). The sensors are located in the east and west sidewalks of the bridge."
   ]
  },
  {
   "cell_type": "markdown",
   "id": "a62c191f",
   "metadata": {},
   "source": [
    "### Pandas Review: Data loading and preparation"
   ]
  },
  {
   "cell_type": "code",
   "execution_count": null,
   "id": "8772b3e9",
   "metadata": {},
   "outputs": [],
   "source": [
    "import pandas as pd\n",
    "import numpy as np\n",
    "import seaborn as sns\n",
    "sns.set() # this will set seaborn as the default formatting for all plots\n",
    "import matplotlib.pyplot as plt"
   ]
  },
  {
   "cell_type": "markdown",
   "id": "af6f7895",
   "metadata": {},
   "source": [
    "The first we will do is to load the data into a Pandas DataFrame. \n",
    "\n",
    "Make sure the data is saved inside a folder called 'datasets' saved in the current directory."
   ]
  },
  {
   "cell_type": "code",
   "execution_count": null,
   "id": "516dadbc",
   "metadata": {},
   "outputs": [],
   "source": [
    "data = pd.read_csv('./datasets/Fremont_Bridge_Bicycle_Counter.csv', index_col='Date', parse_dates=True)"
   ]
  },
  {
   "cell_type": "markdown",
   "id": "17e24af5",
   "metadata": {},
   "source": [
    "After loading the data, let's take a quick look at the DataFrame. Just the first few rows. In this way, we will also test if everything is loaded and ready."
   ]
  },
  {
   "cell_type": "code",
   "execution_count": null,
   "id": "78706c88",
   "metadata": {},
   "outputs": [],
   "source": [
    "data.head()"
   ]
  },
  {
   "cell_type": "markdown",
   "id": "4214b722",
   "metadata": {},
   "source": [
    "The labels in the columns of are a bit too long for our purposes. So we will simolify them into 'Total', 'West' and 'East'. These are the counts (how many bicycles) in the West or East sidewalks and the Total counts across the two sidewlaks, 'Total'."
   ]
  },
  {
   "cell_type": "code",
   "execution_count": null,
   "id": "a87698cb",
   "metadata": {},
   "outputs": [],
   "source": [
    "data.columns = ['Total','East', 'West']"
   ]
  },
  {
   "cell_type": "markdown",
   "id": "8fddf9d3",
   "metadata": {},
   "source": [
    "We will now recompute the total counts and save them back into the column called Total. \n",
    "\n",
    "Note. We use the method `eval`, that (ahem) evaluates a Python expression as a string. Meaning you can write a string, for a command and `eval` will run the command for you, like adding two columns of a DataFrame."
   ]
  },
  {
   "cell_type": "code",
   "execution_count": null,
   "id": "dee942b3",
   "metadata": {},
   "outputs": [],
   "source": [
    "data1 = data\n",
    "data1['Total'] = data1.eval('West + East')\n",
    "data1.head()\n",
    "data1.dropna().describe()"
   ]
  },
  {
   "cell_type": "code",
   "execution_count": null,
   "id": "9b20dc0a",
   "metadata": {},
   "outputs": [],
   "source": [
    "data['Total'] = data['West'] + data['East']\n",
    "data.head()\n",
    "data_tem = data.dropna()\n",
    "data_tem.describe()"
   ]
  },
  {
   "cell_type": "markdown",
   "id": "4faa0105",
   "metadata": {},
   "source": [
    "We can now take a look at the reorganized columns. This time using `describe`. But we want to drop the missing entries, so we use first `dropna`."
   ]
  },
  {
   "cell_type": "markdown",
   "id": "6994d435",
   "metadata": {},
   "source": [
    "### Data visualization"
   ]
  },
  {
   "cell_type": "markdown",
   "id": "4cb8bc93",
   "metadata": {},
   "source": [
    "The next thing we can do with the data is to visualize the time series. We can plot for example the counts (`Y` axis) by date (`X` axis)."
   ]
  },
  {
   "cell_type": "code",
   "execution_count": null,
   "id": "eef9fcee",
   "metadata": {},
   "outputs": [],
   "source": [
    "data.plot()\n",
    "plt.ylabel(\"Bicycle per hour\")"
   ]
  },
  {
   "cell_type": "markdown",
   "id": "4f7a4612-8052-4dd7-b708-6441e01e4a08",
   "metadata": {},
   "source": [
    "Excellent! We've gone over an example of a dataframe, first by loading the dataframe and describing some of the underlying descriptives of the dataframe. We followed that up by creating a visualizaiton of the data.\n",
    "\n",
    "Next, we will work through some examples of indexing and for loops using pandas dataframes."
   ]
  },
  {
   "cell_type": "markdown",
   "id": "28cb8f7b-38f6-433f-8bdf-c65af01cbc94",
   "metadata": {},
   "source": [
    "### Indexing, for loops, and dataframes"
   ]
  },
  {
   "cell_type": "markdown",
   "id": "a52ef47e-0979-413c-8dbd-1f14129b6902",
   "metadata": {},
   "source": [
    "There are many ways to index within dataframes. Remember, an indices allow us to extract specific entries in the dataframe. For a simple example, let's find the index of the values greater than 50 in the following list: [10,75,850,1,23,51,49,3,73,11,33,29]."
   ]
  },
  {
   "cell_type": "code",
   "execution_count": null,
   "id": "6c4dbc68-c3d9-4959-a600-d3ab1a8dd34a",
   "metadata": {},
   "outputs": [],
   "source": [
    "lst = [10,75,850,1,23,51,49,3,73,11,33,29]"
   ]
  },
  {
   "cell_type": "markdown",
   "id": "0d6b46c9-d07f-4199-92b9-83131c94a3c1",
   "metadata": {},
   "source": [
    "There are many ways we can actually do this. First, we could use a little logic and a for loop to build a new list of locations within the original list where the value is greater than 50."
   ]
  },
  {
   "cell_type": "code",
   "execution_count": null,
   "id": "83a8df23-6d82-4583-b9f1-8f3ea55fc4d5",
   "metadata": {},
   "outputs": [],
   "source": [
    "# build a for loop to keep track of indices\n",
    "indices = list()\n",
    "\n",
    "for i in range(len(lst)):\n",
    "    if lst[i] > 50:\n",
    "        indices.append(i) # this will append the index i to the list if the lst value at the index is greater than 50\n",
    "\n",
    "# print the indices\n",
    "print('these are the indices where lst is greater than 50: %s' %str(indices))"
   ]
  },
  {
   "cell_type": "markdown",
   "id": "a645b0ad-d385-47cc-8c6c-eb043a76c8e6",
   "metadata": {},
   "source": [
    "Great! Now let's compute the average of the values greater than 50!"
   ]
  },
  {
   "cell_type": "code",
   "execution_count": null,
   "id": "4b986009-283b-4a5e-82ae-d31980fc31f2",
   "metadata": {},
   "outputs": [],
   "source": [
    "vls = lst[indices]"
   ]
  },
  {
   "cell_type": "markdown",
   "id": "5efdca60-2ca8-460b-9811-648392f0bfc6",
   "metadata": {},
   "source": [
    "Oh weird! I got an error! That's strange! Looks like I can't grab the values from lst with a list of multiple indices. Bummer!\n",
    "\n",
    "Looking at the error message, can you make a guess as to why this doesn't work? Enter your response below:"
   ]
  },
  {
   "cell_type": "markdown",
   "id": "192bfd7f-ebcf-4fe8-bc4e-696bdcbda07f",
   "metadata": {},
   "source": []
  },
  {
   "cell_type": "markdown",
   "id": "0b2e5a86-2761-4d2f-a069-cabc4e50fcb7",
   "metadata": {},
   "source": [
    "So, what can we do? Well, we have two options: one using numpy and the other using pandas. Let's go over the pandas way first.\n",
    "\n",
    "Specifically, we can use pd.Series to turn lst into a pandas series (think of a column in a dataframe), and then we can use multiple indices to extract the values from."
   ]
  },
  {
   "cell_type": "code",
   "execution_count": null,
   "id": "4bd16172-046e-42ac-9ded-99d94fe01e78",
   "metadata": {},
   "outputs": [],
   "source": [
    "# Turn lst into a series and grab values from series\n",
    "lst_series = pd.Series(lst)\n",
    "vls = lst_series[indices]\n",
    "\n",
    "# Compute the mean\n",
    "mean_vls = np.mean(vls)\n",
    "print('The average value of instances above 50 is %s' %str(mean_vls))"
   ]
  },
  {
   "cell_type": "markdown",
   "id": "ea149343-a7ec-4a18-8c9e-873d89867b58",
   "metadata": {},
   "source": [
    "Exercise: Can you do this using numpy? HINT: instead of a series, you need to turn lst into an array"
   ]
  },
  {
   "cell_type": "code",
   "execution_count": null,
   "id": "b386c557-d7fa-4444-9baa-1d5394c534d2",
   "metadata": {},
   "outputs": [],
   "source": []
  },
  {
   "cell_type": "markdown",
   "id": "4f396770-82de-408f-9752-2d9e714d603e",
   "metadata": {},
   "source": [
    "Excellent! We now know how to identify the index of values that meet a certain criteria in a list, and then how to compute the mean of those values by indexing into the list."
   ]
  },
  {
   "cell_type": "markdown",
   "id": "9cc7692a-64a4-4a0f-87b9-84c5126b6193",
   "metadata": {},
   "source": [
    "You may be asking yourself though: what exactly was our for loop doing to identify these indices? Well, let's take a little deeper dive into what our for loop from above was doing."
   ]
  },
  {
   "cell_type": "markdown",
   "id": "738defd6-5a6e-4f32-bebe-4971b0942572",
   "metadata": {},
   "source": [
    "We set our for loop up in a very specific way. Specifically, we used a 'range(len())' wrapping of functions. What exactly did this do?\n",
    "\n",
    "Well, let's just simply print the values of i from our for loop."
   ]
  },
  {
   "cell_type": "code",
   "execution_count": null,
   "id": "809c5f2b-e966-409a-a538-9f08070bb82f",
   "metadata": {},
   "outputs": [],
   "source": [
    "for i in range(len(lst)):\n",
    "    print(i)"
   ]
  },
  {
   "cell_type": "markdown",
   "id": "ad1dae84-8153-4bf0-8085-35510bd59d7e",
   "metadata": {},
   "source": [
    "Ahh, so it looks like it's just counting by 1 all the way until the length of our list array. Remember, python starts with 0 as the first value.\n",
    "\n",
    "So cool, what is the rest of the loop doing? Well, let's add a few more print statements to see."
   ]
  },
  {
   "cell_type": "code",
   "execution_count": null,
   "id": "1373e165-c041-498c-96ee-9e87f0924dd5",
   "metadata": {},
   "outputs": [],
   "source": [
    "for i in range(len(lst)):\n",
    "    print('this is the index of the loop %s and the value within lst at that index %s' %(str(i),str(lst[i])))"
   ]
  },
  {
   "cell_type": "markdown",
   "id": "5a830615-ec84-437e-9ca9-00fb62b7531c",
   "metadata": {},
   "source": [
    "Oh okay. Sor our for loop is starting at index 0 and looping through index 11 (i.e. position 12 of lst, also the length of lst). We can then use this i index into list and extract that specific value.\n",
    "\n",
    "So in our for loop from above, we were looping through every position of lst starting at the 0th position, identifying those locations in lst where lst[i] > 50, and then appending those values of i to a new list (indices).\n",
    "\n",
    "We are then able to use this to extract all the values of lst greater than 50!\n",
    "\n",
    "So, putting it all together:"
   ]
  },
  {
   "cell_type": "code",
   "execution_count": null,
   "id": "7ac3af30-72f4-4d31-92bb-171cad3e1874",
   "metadata": {},
   "outputs": [],
   "source": [
    "for i in range(len(lst)):\n",
    "    if lst[i] > 50:\n",
    "        print('the value at this position %s in lst is greater than 50' %(str(i)))"
   ]
  },
  {
   "cell_type": "markdown",
   "id": "28164867-b4a0-4b7b-bf4f-3c175e5686c8",
   "metadata": {},
   "source": [
    "Great! So that's a brief description of indexing. Let's see how we can use this concept within a pandas dataframe."
   ]
  },
  {
   "cell_type": "markdown",
   "id": "c2a09090-326a-4777-bc41-cbf19b52c5b6",
   "metadata": {},
   "source": [
    "First, let's briefly review some ways we can index columns for a dataframe.\n",
    "\n",
    "Say we want to look at the 'Total' column in data."
   ]
  },
  {
   "cell_type": "code",
   "execution_count": null,
   "id": "180791f0-e125-4d89-99ee-588fc00b04da",
   "metadata": {},
   "outputs": [],
   "source": [
    "# using brackets\n",
    "data['Total']"
   ]
  },
  {
   "cell_type": "code",
   "execution_count": null,
   "id": "7c2c6f02-f8e7-4b12-a8f9-032614c5f841",
   "metadata": {},
   "outputs": [],
   "source": [
    "# using .column_name\n",
    "data.Total"
   ]
  },
  {
   "cell_type": "code",
   "execution_count": null,
   "id": "7729d68e-f21b-444e-849f-36c458bc6ff6",
   "metadata": {},
   "outputs": [],
   "source": [
    "# using .loc\n",
    "data.loc[:,data.columns == 'Total']"
   ]
  },
  {
   "cell_type": "markdown",
   "id": "77781051-f14a-40ed-83ec-951920767b44",
   "metadata": {},
   "source": [
    "Cool, so we have multiple ways to extract information from a column!"
   ]
  },
  {
   "cell_type": "markdown",
   "id": "0473f610-4d24-48ee-b28a-40e82667fc04",
   "metadata": {},
   "source": [
    "Now, let's count all the instances in our Biking dataframe where the total number of bikers is greater than the all-time average number of bikers."
   ]
  },
  {
   "cell_type": "markdown",
   "id": "e58b68e4-ee3a-42e1-8254-4af46721e8c0",
   "metadata": {},
   "source": [
    "Let's first do this by building a simple for loop like we did above."
   ]
  },
  {
   "cell_type": "code",
   "execution_count": null,
   "id": "d249e118-6ca5-431c-bdb9-fd26277bed09",
   "metadata": {},
   "outputs": [],
   "source": [
    "# first, let's compute the mean of bikers across time\n",
    "mean_bikers = data['Total'].mean()\n",
    "\n",
    "# next, let's loop through all the entries in the dataframe and identify the rows where the Total number of bikers is greater than the total mean\n",
    "bikers_indices = list()\n",
    "for i in range(len(data['Total'])):\n",
    "    if data['Total'][i] > 50:\n",
    "        bikers_indices.append(i)\n",
    "        \n",
    "print('There are %s timestamps where there were more than %s bikers on the bridge' %(str(len(bikers_indices)),str(mean_bikers)))"
   ]
  },
  {
   "cell_type": "markdown",
   "id": "0ec0ca6e-221d-47b5-9f69-f06ff3519c83",
   "metadata": {},
   "source": [
    "Awesome, that's a lot of timepoints to sample from!\n",
    "\n",
    "Can you build a list of indices where there were fewer than mean_bikers on the bridge by modifying the for loop from above?"
   ]
  },
  {
   "cell_type": "code",
   "execution_count": null,
   "id": "700dd323-9b5c-4347-9d0e-c9e032d7cf63",
   "metadata": {},
   "outputs": [],
   "source": []
  },
  {
   "cell_type": "markdown",
   "id": "13609120-4dfe-4ec0-a6f3-55bc9e037535",
   "metadata": {},
   "source": [
    "Great, so we have a list of indices. Now how can we use them to extract data!\n",
    "\n",
    "We can use a pandas module called 'iloc' and pass in our indices list. Let's do that, and save a new dataframe"
   ]
  },
  {
   "cell_type": "code",
   "execution_count": null,
   "id": "ef1f73a5-abff-4ff5-92c4-116679d0331f",
   "metadata": {},
   "outputs": [],
   "source": [
    "bikers_greater_than_average = data.iloc[bikers_indices]\n",
    "bikers_greater_than_average"
   ]
  },
  {
   "cell_type": "markdown",
   "id": "94715043-b5be-4a2f-8cf6-30da47326fe6",
   "metadata": {},
   "source": [
    "Excellent! Now, what if i told you there was a simpler way to create this dataframe? We can leverage pandas .loc function to find only the instances that meet our criteria. Essentially, with this, we can skip building a list of indices as pandas will do this for us!\n",
    "\n",
    "Let me show you!"
   ]
  },
  {
   "cell_type": "code",
   "execution_count": null,
   "id": "99492634-f275-4ca8-b60a-a242e4797a71",
   "metadata": {},
   "outputs": [],
   "source": [
    "bikers_greater_than_average_2 = data.loc[data['Total'] > 50]\n",
    "bikers_greater_than_average_2"
   ]
  },
  {
   "cell_type": "code",
   "execution_count": null,
   "id": "5820acf7-1d67-4057-8e4e-56ae532122bd",
   "metadata": {},
   "outputs": [],
   "source": [
    "(bikers_greater_than_average == bikers_greater_than_average_2).Total.unique()"
   ]
  },
  {
   "cell_type": "code",
   "execution_count": null,
   "id": "1b45a497-0ceb-4d01-9db2-ffa381c20db0",
   "metadata": {},
   "outputs": [],
   "source": [
    "sns.scatterplot(x=bikers_greater_than_average['Total'],y=bikers_greater_than_average_2['Total'])"
   ]
  },
  {
   "cell_type": "markdown",
   "id": "53515eda-f72e-4404-80f3-0dfd27d0c5d1",
   "metadata": {},
   "source": [
    "And as you can see, the dataframes are exactly the same, and I didn't have to build a for loop to do this! Awesome! Love being lazy!"
   ]
  },
  {
   "cell_type": "markdown",
   "id": "fa695a70",
   "metadata": {},
   "source": [
    "### Exercise.\n",
    "\n",
    "Using the bikers dataframe, what we've discussed above, and some of the plot making functions from previous tutorials, answer the following questions by writing code in the proceeding cells:\n",
    "\n",
    "    1. How many timepoints exist in the Bikers dataframe where the Total number of bikers on the bridge is between min and 50 (a), 50 and 75 (b), and 75 and max (c)? For a) and b), use for loops and numpy. For c), use pandas functions.\n",
    "    \n",
    "    2. What do the distributions for each of these bins look like? To do this, create a subsampling of the 'data' dataframe with the indices from each bin in question 1 and create three histograms (one for each binning a, b, c) of the Total number of bikers.\n",
    "    \n",
    "    3. Do Eastbound travelers outbound Westbound travelers during these bins? To answer this, use the indices from 1a, b, and c and create three bar plots (one for each binninng a b c) of the the number of bikers heading East and the number of bikers heading West."
   ]
  },
  {
   "cell_type": "markdown",
   "id": "de3eb4ce-9301-4280-825d-df217f4c55a1",
   "metadata": {},
   "source": [
    "1. (a)"
   ]
  },
  {
   "cell_type": "code",
   "execution_count": null,
   "id": "c6a75b8f-c22f-488b-850f-b96bc9c4b6d5",
   "metadata": {},
   "outputs": [],
   "source": []
  },
  {
   "cell_type": "markdown",
   "id": "401b3291-317c-4fe8-8201-abed9ee6fff7",
   "metadata": {},
   "source": [
    "1. (b)"
   ]
  },
  {
   "cell_type": "code",
   "execution_count": null,
   "id": "75545cda-32cb-4ac7-9a40-176f52a59898",
   "metadata": {},
   "outputs": [],
   "source": []
  },
  {
   "cell_type": "markdown",
   "id": "bc3d4228-4247-4528-a1b5-e5a0006ea298",
   "metadata": {},
   "source": [
    "1. (c)"
   ]
  },
  {
   "cell_type": "code",
   "execution_count": null,
   "id": "588b2ce9-989b-4159-b2bd-1168df877a4d",
   "metadata": {},
   "outputs": [],
   "source": []
  },
  {
   "cell_type": "markdown",
   "id": "6ab0e10a-b036-4db4-a8a4-1107bf7889d5",
   "metadata": {},
   "source": [
    "2."
   ]
  },
  {
   "cell_type": "code",
   "execution_count": null,
   "id": "cc0c0cd6-f50a-4eb8-88a4-97c95b64787c",
   "metadata": {},
   "outputs": [],
   "source": []
  },
  {
   "cell_type": "markdown",
   "id": "4a997ff0-bcad-4e1b-b29d-6e0a398c440a",
   "metadata": {},
   "source": [
    "3."
   ]
  },
  {
   "cell_type": "code",
   "execution_count": null,
   "id": "359aafdc-b7d6-42fd-a397-6fdcdc14f4ab",
   "metadata": {},
   "outputs": [],
   "source": []
  }
 ],
 "metadata": {
  "kernelspec": {
   "display_name": "Python 3 (ipykernel)",
   "language": "python",
   "name": "python3"
  },
  "language_info": {
   "codemirror_mode": {
    "name": "ipython",
    "version": 3
   },
   "file_extension": ".py",
   "mimetype": "text/x-python",
   "name": "python",
   "nbconvert_exporter": "python",
   "pygments_lexer": "ipython3",
   "version": "3.9.7"
  }
 },
 "nbformat": 4,
 "nbformat_minor": 5
}
